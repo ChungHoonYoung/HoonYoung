{
  "nbformat": 4,
  "nbformat_minor": 0,
  "metadata": {
    "colab": {
      "provenance": [],
      "authorship_tag": "ABX9TyNCHzaCdYFnFq+7SUBWERUD",
      "include_colab_link": true
    },
    "kernelspec": {
      "name": "python3",
      "display_name": "Python 3"
    },
    "language_info": {
      "name": "python"
    }
  },
  "cells": [
    {
      "cell_type": "markdown",
      "metadata": {
        "id": "view-in-github",
        "colab_type": "text"
      },
      "source": [
        "<a href=\"https://colab.research.google.com/github/ChungHoonYoung/HoonYoung/blob/main/0_Basic_grammar_1_test1.ipynb\" target=\"_parent\"><img src=\"https://colab.research.google.com/assets/colab-badge.svg\" alt=\"Open In Colab\"/></a>"
      ]
    },
    {
      "cell_type": "code",
      "execution_count": 1,
      "metadata": {
        "id": "ZQGO3a-mhC18"
      },
      "outputs": [],
      "source": [
        "import tensorflow as tf\n",
        "import pandas as pd"
      ]
    },
    {
      "cell_type": "code",
      "source": [
        "#1. 데이터 불러오기\n",
        "f = '/content/lemonade.csv'\n",
        "df = pd.read_csv(f)\n",
        "df.head()"
      ],
      "metadata": {
        "id": "glbfMtK0hj5F"
      },
      "execution_count": null,
      "outputs": []
    }
  ]
}